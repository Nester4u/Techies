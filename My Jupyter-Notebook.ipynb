{
 "cells": [
  {
   "cell_type": "markdown",
   "id": "029409f1-7126-4849-9c65-e0becfc0ed9b",
   "metadata": {},
   "source": [
    "# My Jupiter Notebook on IBM Watson Studio"
   ]
  },
  {
   "cell_type": "markdown",
   "id": "4c682e5e-7bdb-49bc-8f01-9ee3623c32fd",
   "metadata": {},
   "source": [
    "CHIEDU ELUE"
   ]
  },
  {
   "cell_type": "markdown",
   "id": "14eefdeb-efaf-4579-81d8-7d456fa48276",
   "metadata": {},
   "source": [
    "Data Scientist"
   ]
  },
  {
   "cell_type": "markdown",
   "id": "d0e1f626-def1-4097-b0d1-3d374adc7dc5",
   "metadata": {},
   "source": [
    "I am interested in Data science because Data is the heart of every organization, and it is a lucrative career"
   ]
  },
  {
   "cell_type": "markdown",
   "id": "78b3858b-1c7c-4ac4-a67c-334aeb6d8daf",
   "metadata": {},
   "source": [
    "### My code is supposed to give the sum of two numbers"
   ]
  },
  {
   "cell_type": "code",
   "execution_count": 5,
   "id": "ee4ca8af-3980-4552-9713-a928846f347f",
   "metadata": {},
   "outputs": [
    {
     "data": {
      "text/plain": [
       "6"
      ]
     },
     "execution_count": 5,
     "metadata": {},
     "output_type": "execute_result"
    }
   ],
   "source": [
    "2+4"
   ]
  },
  {
   "cell_type": "markdown",
   "id": "e2023e62-c0db-4c44-8c4d-82d1d2d24028",
   "metadata": {},
   "source": [
    "- my car"
   ]
  },
  {
   "cell_type": "markdown",
   "id": "d1220ac1-72ca-4011-983a-7d834f2fea75",
   "metadata": {},
   "source": [
    "- my house"
   ]
  },
  {
   "cell_type": "markdown",
   "id": "d9380f13-34ac-4a96-abc6-31b73f9a8683",
   "metadata": {},
   "source": [
    "- my job"
   ]
  },
  {
   "cell_type": "markdown",
   "id": "592e8393-ca3f-4720-a79b-0aeb5555f2b1",
   "metadata": {},
   "source": [
    "- my business"
   ]
  },
  {
   "cell_type": "markdown",
   "id": "2f4c9470-8c34-4474-a7fd-cbb3c3b7b861",
   "metadata": {},
   "source": [
    "- my laptop"
   ]
  },
  {
   "cell_type": "markdown",
   "id": "feec6a46-659e-41bb-9cfe-fcfd8ae98d8d",
   "metadata": {},
   "source": [
    "- my phone"
   ]
  },
  {
   "cell_type": "code",
   "execution_count": null,
   "id": "54c5d0e8-76ec-4a58-9311-6d52dd4d5956",
   "metadata": {},
   "outputs": [],
   "source": []
  }
 ],
 "metadata": {
  "kernelspec": {
   "display_name": "Python",
   "language": "python",
   "name": "conda-env-python-py"
  },
  "language_info": {
   "codemirror_mode": {
    "name": "ipython",
    "version": 3
   },
   "file_extension": ".py",
   "mimetype": "text/x-python",
   "name": "python",
   "nbconvert_exporter": "python",
   "pygments_lexer": "ipython3",
   "version": "3.7.12"
  }
 },
 "nbformat": 4,
 "nbformat_minor": 5
}
